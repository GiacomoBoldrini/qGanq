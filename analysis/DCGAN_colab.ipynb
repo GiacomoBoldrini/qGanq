{
  "nbformat": 4,
  "nbformat_minor": 0,
  "metadata": {
    "colab": {
      "name": "Untitled1.ipynb",
      "provenance": [],
      "collapsed_sections": []
    },
    "kernelspec": {
      "name": "python3",
      "display_name": "Python 3"
    },
    "accelerator": "GPU"
  },
  "cells": [
    {
      "cell_type": "code",
      "metadata": {
        "id": "kPov7b_NpryO",
        "colab_type": "code",
        "outputId": "c880f994-d192-424d-8e49-78d246796ba7",
        "colab": {
          "base_uri": "https://localhost:8080/",
          "height": 51
        }
      },
      "source": [
        "from __future__ import absolute_import, division, print_function, unicode_literals\n",
        "\n",
        "try:\n",
        "  # %tensorflow_version only exists in Colab.\n",
        "  %tensorflow_version 2.x\n",
        "except Exception:\n",
        "  pass\n",
        "\n",
        "import tensorflow as tf\n",
        "\n",
        "from keras.layers import Dense, Activation, Input, LSTM, Permute, Reshape, Masking, TimeDistributed, MaxPooling1D, Flatten, Bidirectional\n",
        "from keras.layers.advanced_activations import LeakyReLU, PReLU, ELU\n",
        "from keras.layers.normalization import BatchNormalization\n",
        "\n",
        "# Install TensorFlow\n",
        "\n",
        "import glob\n",
        "import imageio\n",
        "import matplotlib.pyplot as plt\n",
        "import numpy as np\n",
        "import os\n",
        "import PIL\n",
        "from tensorflow.keras import layers\n",
        "import time\n",
        "from IPython import display\n",
        "from tqdm import tqdm\n",
        "from matplotlib.colors import LogNorm"
      ],
      "execution_count": 1,
      "outputs": [
        {
          "output_type": "stream",
          "text": [
            "TensorFlow 2.x selected.\n"
          ],
          "name": "stdout"
        },
        {
          "output_type": "stream",
          "text": [
            "Using TensorFlow backend.\n"
          ],
          "name": "stderr"
        }
      ]
    },
    {
      "cell_type": "code",
      "metadata": {
        "id": "mCtcRqjd6Tr_",
        "colab_type": "code",
        "outputId": "5912f2b8-1b46-4c66-b36b-1f8b779db252",
        "colab": {
          "base_uri": "https://localhost:8080/",
          "height": 51
        }
      },
      "source": [
        "import os\n",
        "from pydrive.auth import GoogleAuth\n",
        "from pydrive.drive import GoogleDrive\n",
        "from google.colab import auth\n",
        "from oauth2client.client import GoogleCredentials\n",
        "\n",
        "# 1. Authenticate and create the PyDrive client.\n",
        "auth.authenticate_user()\n",
        "gauth = GoogleAuth()\n",
        "gauth.credentials = GoogleCredentials.get_application_default()\n",
        "drive = GoogleDrive(gauth)\n",
        "\n",
        "# choose a local (colab) directory to store the data.\n",
        "local_download_path = os.path.expanduser('~/data')\n",
        "try:\n",
        "  os.makedirs(local_download_path)\n",
        "except: pass\n",
        "\n",
        "# 2. Auto-iterate using the query syntax\n",
        "#    https://developers.google.com/drive/v2/web/search-parameters\n",
        "file_list = drive.ListFile(\n",
        "    {'q': \"'1-kLULQZBXB90J_k1cPRDNO-j-NWD6osp' in parents\"}).GetList()\n",
        "\n",
        "for f in file_list:\n",
        "  # 3. Create & download by id.\n",
        "  print('title: %s, id: %s' % (f['title'], f['id']))\n",
        "  fname = os.path.join(local_download_path, f['title'])\n",
        "  print('downloading to {}'.format(fname))\n",
        "  f_ = drive.CreateFile({'id': f['id']})\n",
        "  f_.GetContentFile(fname)\n"
      ],
      "execution_count": 2,
      "outputs": [
        {
          "output_type": "stream",
          "text": [
            "title: events_im.npy, id: 1fM5GAZwk04w_bBXa9qAxq23ufAZX7tuF\n",
            "downloading to /root/data/events_im.npy\n"
          ],
          "name": "stdout"
        }
      ]
    },
    {
      "cell_type": "code",
      "metadata": {
        "id": "c8aK3pqxp0RY",
        "colab_type": "code",
        "colab": {}
      },
      "source": [
        "cross_entropy = tf.keras.losses.BinaryCrossentropy(from_logits=True)\n",
        "generator_optimizer = tf.keras.optimizers.Adam(1e-3)\n",
        "discriminator_optimizer = tf.keras.optimizers.Adam(1e-3)\n",
        "\n",
        "noise_dim = 100\n",
        "num_examples_to_generate = 16\n",
        "\n",
        "BUFFER_SIZE = 60000\n",
        "BATCH_SIZE = 128"
      ],
      "execution_count": 0,
      "outputs": []
    },
    {
      "cell_type": "code",
      "metadata": {
        "id": "tSJ7dXkxp2wo",
        "colab_type": "code",
        "colab": {}
      },
      "source": [
        "def make_generator_model():\n",
        "    model = tf.keras.Sequential()\n",
        "    model.add(layers.Dense(15*15*128, use_bias=False, input_shape=(100,)))\n",
        "    model.add(layers.BatchNormalization())\n",
        "    model.add(layers.LeakyReLU())\n",
        "\n",
        "    model.add(layers.Reshape((15, 15, 128)))\n",
        "    assert model.output_shape == (None, 15, 15, 128) # Note: None is the batch size\n",
        "    \n",
        "    model.add(layers.Conv2DTranspose(64, (5, 5), strides=(2, 2), padding='same', use_bias=False))\n",
        "    assert model.output_shape == (None, 30, 30, 64)\n",
        "    model.add(layers.BatchNormalization())\n",
        "    model.add(layers.LeakyReLU())\n",
        "    \n",
        "    model.add(layers.Conv2DTranspose(16, (5, 5), strides=(2, 2), padding='same', use_bias=False))\n",
        "    assert model.output_shape == (None, 60, 60, 16)\n",
        "    model.add(layers.BatchNormalization())\n",
        "    model.add(layers.LeakyReLU())\n",
        "    \n",
        "    \n",
        "    model.add(layers.Conv2DTranspose(1, (3, 3), strides=(2, 2), padding='same', use_bias=False, activation='tanh'))\n",
        "    assert model.output_shape == (None, 120, 120, 1)\n",
        "\n",
        "\n",
        "    return model"
      ],
      "execution_count": 0,
      "outputs": []
    },
    {
      "cell_type": "code",
      "metadata": {
        "id": "P3ZkTk06p7zE",
        "colab_type": "code",
        "colab": {}
      },
      "source": [
        "def make_discriminator_model():\n",
        "    model = tf.keras.Sequential()\n",
        "    model.add(layers.Conv2D(32, (5, 5), strides=(2, 2), padding='same',\n",
        "                                     input_shape=[120, 120, 1]))\n",
        "    model.add(layers.LeakyReLU())\n",
        "    model.add(layers.Dropout(0.3))\n",
        "\n",
        "    model.add(layers.Conv2D(32, (3, 3), strides=(2, 2), padding='same'))\n",
        "    model.add(layers.LeakyReLU())\n",
        "    model.add(layers.Dropout(0.3))\n",
        "\n",
        "\n",
        "    model.add(layers.Flatten())\n",
        "    model.add(layers.Dense(1))\n",
        "\n",
        "    return model"
      ],
      "execution_count": 0,
      "outputs": []
    },
    {
      "cell_type": "code",
      "metadata": {
        "id": "AJdebWtKp-mt",
        "colab_type": "code",
        "colab": {}
      },
      "source": [
        "def discriminator_loss(real_output, fake_output):\n",
        "    real_loss = cross_entropy(tf.ones_like(real_output), real_output)\n",
        "    fake_loss = cross_entropy(tf.zeros_like(fake_output), fake_output)\n",
        "    total_loss = real_loss + fake_loss\n",
        "    return total_loss"
      ],
      "execution_count": 0,
      "outputs": []
    },
    {
      "cell_type": "code",
      "metadata": {
        "id": "kGVM0QwRqBIl",
        "colab_type": "code",
        "colab": {}
      },
      "source": [
        "def generator_loss(fake_output):\n",
        "    #return tf.keras.losses.MSE(tf.ones_like(fake_output), fake_output)\n",
        "    return cross_entropy(tf.ones_like(fake_output), fake_output)"
      ],
      "execution_count": 0,
      "outputs": []
    },
    {
      "cell_type": "code",
      "metadata": {
        "id": "d49ot--2qDUb",
        "colab_type": "code",
        "colab": {}
      },
      "source": [
        "# Notice the use of `tf.function`\n",
        "# This annotation causes the function to be \"compiled\".\n",
        "@tf.function\n",
        "def train_step(images, BATCH_SIZE, noise_dim, noise):\n",
        "    noise = tf.random.normal([BATCH_SIZE, noise_dim])\n",
        "\n",
        "    with tf.GradientTape() as gen_tape, tf.GradientTape() as disc_tape:\n",
        "      generated_images = generator(noise, training=True)\n",
        "\n",
        "      real_output = discriminator(images, training=True)\n",
        "      fake_output = discriminator(generated_images, training=True)\n",
        "\n",
        "      gen_loss = generator_loss(fake_output)\n",
        "      disc_loss = discriminator_loss(real_output, fake_output)\n",
        "\n",
        "    gradients_of_generator = gen_tape.gradient(gen_loss, generator.trainable_variables)\n",
        "    gradients_of_discriminator = disc_tape.gradient(disc_loss, discriminator.trainable_variables)\n",
        "\n",
        "    generator_optimizer.apply_gradients(zip(gradients_of_generator, generator.trainable_variables))\n",
        "    discriminator_optimizer.apply_gradients(zip(gradients_of_discriminator, discriminator.trainable_variables))\n",
        "    \n",
        "    return gen_loss, disc_loss"
      ],
      "execution_count": 0,
      "outputs": []
    },
    {
      "cell_type": "code",
      "metadata": {
        "id": "bq_K8ZySqGj6",
        "colab_type": "code",
        "colab": {}
      },
      "source": [
        "def train(dataset, epochs, ret_loss = False):\n",
        "  gen_loss = []\n",
        "  disc_loss = []\n",
        "  for epoch in tqdm(range(epochs)):\n",
        "    start = time.time()\n",
        "    \n",
        "    for image_batch in dataset:\n",
        "      gl, dl = train_step(image_batch, BATCH_SIZE, noise_dim, noise)\n",
        "    \n",
        "    #appending last loss from batch training\n",
        "    gen_loss.append(gl)\n",
        "    disc_loss.append(dl)\n",
        "  \n",
        "  if ret_loss:\n",
        "    return gen_loss, disc_loss\n",
        "    "
      ],
      "execution_count": 0,
      "outputs": []
    },
    {
      "cell_type": "code",
      "metadata": {
        "id": "NPvWQChw_5AM",
        "colab_type": "code",
        "colab": {}
      },
      "source": [
        "def save(generator, discriminator):\n",
        "    discriminator.trainable = False\n",
        "    discriminator.trainable = True\n",
        "    save_model(generator, 'generator')\n",
        "    save_model(discriminator, 'discriminator')"
      ],
      "execution_count": 0,
      "outputs": []
    },
    {
      "cell_type": "code",
      "metadata": {
        "id": "dOL7LhCtqI07",
        "colab_type": "code",
        "outputId": "3986e514-c763-4c89-c58d-697a922394a1",
        "colab": {
          "base_uri": "https://localhost:8080/",
          "height": 1000
        }
      },
      "source": [
        "generator = make_generator_model()\n",
        "\n",
        "noise = tf.random.normal([1, 100])\n",
        "generated_image = generator(noise, training=False)\n",
        "\n",
        "print(generated_image)\n",
        "plt.imshow(generated_image[0, :, :, 0], cmap='gray')"
      ],
      "execution_count": 11,
      "outputs": [
        {
          "output_type": "stream",
          "text": [
            "tf.Tensor(\n",
            "[[[[ 9.25500994e-04]\n",
            "   [ 6.02065120e-04]\n",
            "   [-1.85439433e-03]\n",
            "   ...\n",
            "   [-2.07115285e-04]\n",
            "   [-5.50685741e-04]\n",
            "   [-1.35828195e-05]]\n",
            "\n",
            "  [[ 1.21163402e-03]\n",
            "   [-4.84311691e-04]\n",
            "   [ 5.03878109e-05]\n",
            "   ...\n",
            "   [-8.78429273e-04]\n",
            "   [-9.88655258e-04]\n",
            "   [-8.14620696e-04]]\n",
            "\n",
            "  [[-8.70266347e-04]\n",
            "   [ 1.89707463e-03]\n",
            "   [-1.80876232e-04]\n",
            "   ...\n",
            "   [ 3.44152679e-04]\n",
            "   [-2.94773374e-04]\n",
            "   [-2.02098070e-03]]\n",
            "\n",
            "  ...\n",
            "\n",
            "  [[-3.07574542e-03]\n",
            "   [-1.46663981e-03]\n",
            "   [-4.61725518e-03]\n",
            "   ...\n",
            "   [-4.74287197e-03]\n",
            "   [ 3.66276875e-03]\n",
            "   [-1.45104225e-03]]\n",
            "\n",
            "  [[ 5.17302705e-03]\n",
            "   [-1.22504390e-03]\n",
            "   [-2.57324474e-03]\n",
            "   ...\n",
            "   [-7.00633507e-03]\n",
            "   [-7.60277361e-03]\n",
            "   [-2.91602989e-03]]\n",
            "\n",
            "  [[-2.47457283e-05]\n",
            "   [ 7.83955562e-04]\n",
            "   [-4.46218438e-03]\n",
            "   ...\n",
            "   [-3.05709336e-03]\n",
            "   [-1.95673364e-03]\n",
            "   [-3.19141266e-03]]]], shape=(1, 120, 120, 1), dtype=float32)\n"
          ],
          "name": "stdout"
        },
        {
          "output_type": "execute_result",
          "data": {
            "text/plain": [
              "<matplotlib.image.AxesImage at 0x7f92601e3438>"
            ]
          },
          "metadata": {
            "tags": []
          },
          "execution_count": 11
        },
        {
          "output_type": "display_data",
          "data": {
            "image/png": "[encoded data removed]",
            "text/plain": [
              "<Figure size 432x288 with 1 Axes>"
            ]
          },
          "metadata": {
            "tags": []
          }
        }
      ]
    },
    {
      "cell_type": "code",
      "metadata": {
        "id": "JVIcc81YqO4J",
        "colab_type": "code",
        "outputId": "ff589ee2-49a3-4651-ba82-4e69580356b9",
        "colab": {
          "base_uri": "https://localhost:8080/",
          "height": 34
        }
      },
      "source": [
        "discriminator = make_discriminator_model()\n",
        "decision = discriminator(generated_image)\n",
        "print (decision)"
      ],
      "execution_count": 12,
      "outputs": [
        {
          "output_type": "stream",
          "text": [
            "tf.Tensor([[-4.195846e-05]], shape=(1, 1), dtype=float32)\n"
          ],
          "name": "stdout"
        }
      ]
    },
    {
      "cell_type": "code",
      "metadata": {
        "id": "kyQzhFgtWkM3",
        "colab_type": "code",
        "outputId": "176ff125-9d9d-48d6-c9e2-f09602e97052",
        "colab": {
          "base_uri": "https://localhost:8080/",
          "height": 34
        }
      },
      "source": [
        "from sklearn.preprocessing import StandardScaler, RobustScaler, MinMaxScaler\n",
        "\n",
        "seed = tf.random.normal([num_examples_to_generate, noise_dim])\n",
        "\n",
        "train_images = np.load(\"/root/data/events_im.npy\")[:50]\n",
        "\n",
        "#normalizing images\n",
        "train_images_norm = []\n",
        "scaler = MinMaxScaler((-1,1))\n",
        "\n",
        "for im in train_images:\n",
        "  scaler.fit(im)\n",
        "  im = scaler.transform(im)\n",
        "  train_images_norm.append(im)\n",
        " \n",
        "train_images = np.array(train_images_norm)\n",
        "print(train_images.shape)"
      ],
      "execution_count": 20,
      "outputs": [
        {
          "output_type": "stream",
          "text": [
            "(50, 120, 120)\n"
          ],
          "name": "stdout"
        }
      ]
    },
    {
      "cell_type": "code",
      "metadata": {
        "id": "ksi5NX6p3MM2",
        "colab_type": "code",
        "outputId": "353e7397-2223-469e-8766-f64c1f1c5d45",
        "colab": {
          "base_uri": "https://localhost:8080/",
          "height": 612
        }
      },
      "source": [
        "from matplotlib.colors import LogNorm\n",
        "fig = plt.figure(figsize=(10,10))\n",
        "plt.imshow(train_images[10],origin='lower',norm=LogNorm(vmin=0.01))"
      ],
      "execution_count": 21,
      "outputs": [
        {
          "output_type": "execute_result",
          "data": {
            "text/plain": [
              "<matplotlib.image.AxesImage at 0x7f920f14d710>"
            ]
          },
          "metadata": {
            "tags": []
          },
          "execution_count": 21
        },
        {
          "output_type": "display_data",
          "data": {
            "image/png": "[encoded data removed]",
            "text/plain": [
              "<Figure size 720x720 with 1 Axes>"
            ]
          },
          "metadata": {
            "tags": []
          }
        }
      ]
    },
    {
      "cell_type": "code",
      "metadata": {
        "id": "6_VLub7hqSRu",
        "colab_type": "code",
        "outputId": "95262b60-0bc2-460d-ef92-2c21e4b6c13d",
        "colab": {
          "base_uri": "https://localhost:8080/",
          "height": 34
        }
      },
      "source": [
        "train_images = train_images.reshape(train_images.shape[0], 120, 120, 1).astype('float32')\n",
        "train_dataset = tf.data.Dataset.from_tensor_slices(train_images).shuffle(BUFFER_SIZE).batch(BATCH_SIZE)\n",
        "\n",
        "g_loss, d_loss = train(train_dataset, 5000, ret_loss = True)"
      ],
      "execution_count": 0,
      "outputs": [
        {
          "output_type": "stream",
          "text": [
            " 97%|█████████▋| 4863/5000 [16:58<00:35,  3.82it/s]"
          ],
          "name": "stderr"
        }
      ]
    },
    {
      "cell_type": "code",
      "metadata": {
        "id": "Ygv8pQnmqZba",
        "colab_type": "code",
        "colab": {}
      },
      "source": [
        "nnoise = tf.random.normal([1, 100])\n",
        "generated_image = generator(noise, training=True)\n",
        "\n",
        "fig = plt.figure(figsize=(15,15))\n",
        "plt.imshow(generated_image[0, :, :, 0], origin='lower',norm=LogNorm(vmin=0.01))\n",
        "fig.show()\n",
        "\n",
        "print(nnoise)"
      ],
      "execution_count": 0,
      "outputs": []
    },
    {
      "cell_type": "code",
      "metadata": {
        "id": "qxqd2Aott-kO",
        "colab_type": "code",
        "colab": {}
      },
      "source": [
        "plt.plot(g_loss)\n",
        "plt.title(\"generator loss\")\n",
        "plt.xlabel(\"batch size = 10 step x 2000 epochs\")\n",
        "plt.ylabel(\"crossentropy\")"
      ],
      "execution_count": 0,
      "outputs": []
    },
    {
      "cell_type": "code",
      "metadata": {
        "id": "vI5aiV0EopbI",
        "colab_type": "code",
        "colab": {}
      },
      "source": [
        "plt.plot(d_loss)\n",
        "plt.title(\"discriminator loss\")\n",
        "plt.xlabel(\"batch size = 10 step x 2000 epochs\")\n",
        "plt.ylabel(\"crossentropy\")"
      ],
      "execution_count": 0,
      "outputs": []
    },
    {
      "cell_type": "code",
      "metadata": {
        "id": "Ahv72kLjA6nw",
        "colab_type": "code",
        "colab": {}
      },
      "source": [
        ""
      ],
      "execution_count": 0,
      "outputs": []
    }
  ]
}